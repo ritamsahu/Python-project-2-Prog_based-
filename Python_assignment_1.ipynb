{
 "cells": [
  {
   "cell_type": "code",
   "execution_count": 1,
   "metadata": {
    "id": "p5oraMdu1nQe",
    "scrolled": true
   },
   "outputs": [
    {
     "ename": "ModuleNotFoundError",
     "evalue": "No module named 'pyforest'",
     "output_type": "error",
     "traceback": [
      "\u001b[0;31m---------------------------------------------------------------------------\u001b[0m",
      "\u001b[0;31mModuleNotFoundError\u001b[0m                       Traceback (most recent call last)",
      "Input \u001b[0;32mIn [1]\u001b[0m, in \u001b[0;36m<cell line: 1>\u001b[0;34m()\u001b[0m\n\u001b[0;32m----> 1\u001b[0m \u001b[38;5;28;01mfrom\u001b[39;00m \u001b[38;5;21;01mpyforest\u001b[39;00m \u001b[38;5;28;01mimport\u001b[39;00m\u001b[38;5;241m*\u001b[39m\n",
      "\u001b[0;31mModuleNotFoundError\u001b[0m: No module named 'pyforest'"
     ]
    }
   ],
   "source": [
    "from pyforest import*"
   ]
  },
  {
   "cell_type": "markdown",
   "metadata": {
    "id": "qlLbOeAX1nQo"
   },
   "source": [
    "## Section-A"
   ]
  },
  {
   "cell_type": "markdown",
   "metadata": {
    "id": "ETUNAYTW1nQt"
   },
   "source": [
    "### 1.Write a Python program to make a currency converter. (5 Marks) The currency converter should be able to convert a specific currency to appropriate INR (Indian National Rupee) value. \n",
    "1. USD (U.S Dollars)          \n",
    "(1 USD =71.83 INR) \n",
    "2. YEN (Japanese YEN)       \n",
    "(1 YEN= 0.66 INR\n",
    "3. EURO                               \n",
    "(1 EURO=79.57 INR)  \n",
    "4. U.K POUND                      \n",
    "(1 U.K POUND=93.11 INR) \n",
    " "
   ]
  },
  {
   "cell_type": "code",
   "execution_count": null,
   "metadata": {
    "id": "MSGjdLTe1nQx"
   },
   "outputs": [
    {
     "name": "stdout",
     "output_type": "stream",
     "text": [
      "               WELCOME TO CURRENCY CONVERTER            \n",
      "------------------------------------------------------------------\n",
      "Enter q or Q to Exit\n"
     ]
    }
   ],
   "source": [
    "print(\"               WELCOME TO CURRENCY CONVERTER            \")\n",
    "while True:                                                                      # use while loop for automation\n",
    "    print(\"------------------------------------------------------------------\")\n",
    "    print(\"Enter q or Q to Exit\")\n",
    "    Currency = input(\"Enter the Converting Currency(USD,YEN,EURO,U.K POUND): \")\n",
    "\n",
    "    if Currency == \"q\" or Currency == \"Q\":                                      # use if fuction for clculation\n",
    "        break                                                                    \n",
    "    if Currency == \"USD\" or Currency == \"usd\":\n",
    "        Currency_amount = int(input(\"Enter amount: \"))\n",
    "        INR = 71.83\n",
    "        print(\"The Converted amount is : \" + str(float(Currency_amount) * INR))\n",
    "    elif Currency == \"YEN\" or Currency == \"yen\":\n",
    "        Currency_amount = int(input(\"Enter amount: \"))\n",
    "        INR = 0.66\n",
    "        print(\"The Converted amount is : \" + str(float(Currency_amount) * INR))\n",
    "    elif Currency == \"EURO\" or Currency == \"euro\":\n",
    "        Currency_amount = int(input(\"Enter amount: \"))\n",
    "        INR = 79.57\n",
    "        print(\"The Converted amount is : \" + str(float(Currency_amount) * INR))\n",
    "    elif Currency == \"U.K POUND\" or Currency == \"u.k pound\":\n",
    "        Currency_amount = int(input(\"Enter amount: \"))\n",
    "        INR = 93.11\n",
    "        print(\"The Converted amount is : \" + str(float(Currency_amount) * INR))\n",
    "    else:\n",
    "        print(\" Enter listed Currency\")"
   ]
  },
  {
   "cell_type": "markdown",
   "metadata": {
    "id": "UUtvVNJN1nQy"
   },
   "source": [
    "### 2.Write a Python program which calculates area of various geometrical figures as given below: (5 Marks)                                                      Program should ask the user about the geometrical figure for which he wants to calculate the area. Take the inputs accordingly and calculate the area. (units/metrics like mm, cm can be including as per the programmer’s choice)   \n",
    "1. the formula to calculate area of a square is Area= (Side of a square)**2    \n",
    "2. The formula to calculate area of a circle is Area=(pi)*(radius)**2    \n",
    "3. The formula to calculate area of a triangle is Area=0.5*Base *Height   \n",
    "4. The formula to calculate area of a cylinder is Area=2*pi*radius*height+2*pi*(radius**2) "
   ]
  },
  {
   "cell_type": "code",
   "execution_count": 3,
   "metadata": {
    "id": "lewcEjbT1nQ0"
   },
   "outputs": [
    {
     "name": "stdout",
     "output_type": "stream",
     "text": [
      "               WELCOME TO AREA CALCULATOR            \n",
      "------------------------------------------------------------------\n",
      "select an operation to perform: \n",
      "1. Area of a Square\n",
      "2. Area of a Circle\n",
      "3. Area of a Triangle\n",
      "4. Area of a Cylinder\n",
      "Enter q or Q to Exit\n",
      "Enter operation no: q\n"
     ]
    }
   ],
   "source": [
    "\n",
    "import math\n",
    "print(\"               WELCOME TO AREA CALCULATOR            \")\n",
    "\n",
    "while True:\n",
    "    print(\"------------------------------------------------------------------\")         # USE WHILE LOOP\n",
    "    print(\"select an operation to perform: \")\n",
    "    print(\"1. Area of a Square\")\n",
    "    print(\"2. Area of a Circle\")\n",
    "    print(\"3. Area of a Triangle\")\n",
    "    print(\"4. Area of a Cylinder\")\n",
    "    print(\"Enter q or Q to Exit\")\n",
    "\n",
    "    operation = input(\"Enter operation no: \")\n",
    "    if operation == \"q\" or operation == \"Q\":\n",
    "        break\n",
    "    if operation == \"1\":\n",
    "        length = float(input(\"Enter Side of a square: \"))\n",
    "        area = length * length                                                     # calculation.\n",
    "        print(\"Area of square = \" + str(area) + \" cm\\u00b2\")\n",
    "    elif operation == \"2\":\n",
    "        radius = float(input(\"Enter  radius of circle: \"))\n",
    "        area = math.pi * radius * radius                                            # calculation.\n",
    "        print(\"Area of Circle = \" + str(area) + \" cm\\u00b2\")\n",
    "    elif operation == \"3\":\n",
    "        base = float(input(\"Input the base : \"))\n",
    "        height = float(input(\"Input the height : \"))\n",
    "        area = base * height * 0.5                                                  # calculation.\n",
    "        print(\"Area of Triangle = \" + str(area) + \" cm\\u00b2\")\n",
    "    elif operation == \"4\":\n",
    "        # pi = 22 / 7\n",
    "        r = float(input('Radius of cylinder: '))                                    # radius.\n",
    "        h = float(input('Height of cylinder: '))                                    # height.\n",
    "        sur_area = ((2 * math.pi * r) * h) + ((math.pi * r ** 2) * 2)               # calculation.\n",
    "        print(\"Surface Area Of Cylinder : \", sur_area, \" cm\\u00b2\")\n",
    "    else:\n",
    "        print(\"Invalid entry\")\n",
    "\n"
   ]
  },
  {
   "cell_type": "markdown",
   "metadata": {
    "id": "9m0RBTZs1nQ1"
   },
   "source": [
    "## 3. A string is said to be complete if it contains all the characters from a to z. Given a string, check if it completes or not.\n",
    "\n",
    "Input: The first line of the input contains the number of strings N.It is followed by N lines each contains a single string.\n",
    "\n",
    "Output: For each test case print \"YES\" if the string is complete, else print \"NO\" \n",
    "\n",
    "Constraints 1 <= N <= 10 \n",
    "\n",
    "The length of the string is at max 100 and the string contains only the characters a to z "
   ]
  },
  {
   "cell_type": "code",
   "execution_count": 8,
   "metadata": {
    "id": "lvknBjC51nQ4"
   },
   "outputs": [
    {
     "name": "stdout",
     "output_type": "stream",
     "text": [
      "Input str: a quick brown fox jumps over the lazy dog. my name is khan\n",
      "Yes\n"
     ]
    }
   ],
   "source": [
    "import string\n",
    "alphabet = set(string.ascii_lowercase)\n",
    "input_string = input(\"Input str: \")\n",
    "if (set(input_string.lower()) >= alphabet)  and (len(input_string)<=100):\n",
    "   print(\"Yes\")\n",
    "else:\n",
    "    print(\"no\")\n",
    "\n",
    "\n",
    "    \n",
    "\n",
    "\n"
   ]
  },
  {
   "cell_type": "markdown",
   "metadata": {
    "id": "Fst-YjSE1nQ6"
   },
   "source": [
    "## 4. Given A String S Find The Number Of White Spaces In The Given String S. (5 Marks) \n",
    " \n",
    "Input Format: \n",
    "\n",
    "Take input string: \n",
    "\n",
    "S Output Format Number of White spaces in S \n",
    "\n",
    "Constraints\n",
    "\n",
    "0<S<100001 \n",
    "\n",
    "Sample Input  Hello World \n",
    "\n",
    "Sample Output:   1 "
   ]
  },
  {
   "cell_type": "code",
   "execution_count": 1,
   "metadata": {
    "id": "k_gFumyo1nQ9"
   },
   "outputs": [
    {
     "name": "stdout",
     "output_type": "stream",
     "text": [
      "Type a sentence: i am ritam\n",
      "Number of Spaces: 2\n"
     ]
    }
   ],
   "source": [
    "\n",
    "# return space count\n",
    "def check_space(Test_string):\n",
    "    return Test_string.count(\" \")\n",
    "\n",
    "\n",
    "# Driver function\n",
    "if __name__ == \"__main__\":\n",
    "    Test_string = input(\"Type a sentence: \")\n",
    "\n",
    "    # Call the function and display\n",
    "    print(f\"Number of Spaces: {check_space(Test_string)}\")"
   ]
  },
  {
   "cell_type": "markdown",
   "metadata": {
    "id": "ZCxxGokL1nQ9"
   },
   "source": [
    "## Section -B"
   ]
  },
  {
   "cell_type": "markdown",
   "metadata": {
    "id": "YyH8iRNC1nQ_"
   },
   "source": [
    "### 5. A Basket of Halloween candy has an unknown amount of candy and you need to guess exactly how much candy is in the bowl. You ask the person in charge a few questions to make a correct guess. If the candy is divided evenly among 5 people, how many pieces would be leftover? The answer is 2 pieces. You then ask about dividing the candy evenly among 6 people, and the amount left over is 3 pieces. Finally, you ask about dividing the candy evenly among 7 people, and the amount left over is 2 pieces. By looking at the bowl, you can tell that there are less than 200 pieces. Write a program to determine how many pieces are in the bowl. (10 Marks) \n",
    " "
   ]
  },
  {
   "cell_type": "code",
   "execution_count": 3,
   "metadata": {
    "id": "yd_32vn01nRB"
   },
   "outputs": [
    {
     "name": "stdout",
     "output_type": "stream",
     "text": [
      "177 is the answer!\n"
     ]
    }
   ],
   "source": [
    "for candies in range(200):\n",
    "    if (candies % 5 != 2):\n",
    "        continue\n",
    "    if (candies % 6 != 3):\n",
    "        continue\n",
    "    if (candies % 7 != 2):\n",
    "        continue\n",
    "\n",
    "    print(str(candies) + \" is the answer!\")\n",
    "    break"
   ]
  },
  {
   "cell_type": "markdown",
   "metadata": {
    "id": "or_Pf4W81nRC"
   },
   "source": [
    "### 6.Write a multiplication game program for kids. The program should give the player ten randomly generated multiplication questions to do. After each, the program should tell them whether they got it right or wrong and what the correct answer is and finally it should display the total score out of 10 scored by user. "
   ]
  },
  {
   "cell_type": "code",
   "execution_count": 6,
   "metadata": {
    "id": "vq_Ftth41nRD"
   },
   "outputs": [
    {
     "name": "stdout",
     "output_type": "stream",
     "text": [
      "The multiplication problem is  9 * 5\n",
      "What is your guss? 45\n",
      "That is correct.\n",
      "Enter 1 to play again or o to exit.0\n",
      "Thanks for playing\n"
     ]
    }
   ],
   "source": [
    "from random import randint\n",
    "play = 1\n",
    "while play == 1:\n",
    "    x = randint(0,9)\n",
    "    y = randint(0,9)\n",
    "    print(\"The multiplication problem is \", x,\"*\", y)\n",
    "    a = int(input(\"What is your guss? \"))\n",
    "    if a == x*y:\n",
    "        print(\"That is correct.\")\n",
    "    else:\n",
    "        print(\"That is not correct. The correct answer is \",x*y)\n",
    "    play = int(input(\"Enter 1 to play again or o to exit.\"))\n",
    "else:\n",
    "    print(\"Thanks for playing\")"
   ]
  },
  {
   "cell_type": "markdown",
   "metadata": {
    "id": "rFFtCXd-1nRE"
   },
   "source": [
    "## SECTION:- C"
   ]
  },
  {
   "cell_type": "markdown",
   "metadata": {
    "id": "senxC9lL1nRG"
   },
   "source": [
    "###  7. Write a program to have a function called triple_shuffle () that takes three lists of the same size and shuffles them concurrently, so that they are shuffled in the exact same way. For instance, if the lists are [10,20,30,40,50], [11,22,33,44,55], and [19,18,17,16,15], and the first list is shuffled into [40,50,30,20,10], then the second would become [44,55,33,22,11] and the third would become [16,15,17,18,19]. The function should modify the lists and not return anything. "
   ]
  },
  {
   "cell_type": "code",
   "execution_count": 6,
   "metadata": {
    "id": "lJN1zo741nRH"
   },
   "outputs": [
    {
     "name": "stdout",
     "output_type": "stream",
     "text": [
      "[4, 5, 1, 2, 3]\n",
      "[40, 50, 10, 20, 30]\n"
     ]
    }
   ],
   "source": [
    "from sklearn.utils import shuffle\n",
    "X = [1,2,3,4,5]\n",
    "y = [10,20,30,40,50]\n",
    "\n",
    "X, y,  = shuffle(X, y, random_state=6)\n",
    "\n",
    "print(X)\n",
    "print(y)"
   ]
  },
  {
   "cell_type": "markdown",
   "metadata": {
    "id": "u6KyBeid1nRH"
   },
   "source": [
    " 8. A dictionary provides a nice way to represent a deck of cards. It can be done by given code.\n",
    "This deck is actually a list of 52 cards, each card is a dictionary of value and suite.  Values 11,12,13,14 represents Joker, Queen, King and Ace cards respectively. \n",
    "\n",
    "Create a simple card game which repeatedly deal out three cards from this deck of cards after shuffling it and display it. \n",
    "For every iteration of game, Determine the following for these three cards. \n",
    "\n",
    "A. If the three cards form a flush (all of the same suit), then display a message \"Three cards form a flush\"\n",
    "\n",
    "B. If there is a three-of-a-kind (all of the same value), then display a message \"there is a three-of-a-kind\" \n",
    "\n",
    "C. If there is a pair, but not three-of-a-kind, then display a message \"There is a pair\"\n",
    "\n",
    "D. If the three cards form a straight (all in a row, like (2, 3, 4) or (10, Jack, Queen)), then display a message \"Three cards form a straight\"\n",
    "\n",
    "E. if none of the above case, then display a message \"Try NEXT!!!\" \n",
    "\n",
    "F. At the end, ask user whether he/she wants to continue with the game? y/n.       If user gives 'n’, then stop playing this game"
   ]
  },
  {
   "cell_type": "code",
   "execution_count": null,
   "metadata": {
    "id": "Hgm9o4921nRJ"
   },
   "outputs": [],
   "source": [
    "import random\n",
    "class Card:\n",
    "    suits = ['\\u2666', '\\u2665', '\\u2663', '\\u2660']\n",
    "    ranks = [\"2\", \"3\", \"4\", \"5\", \"6\", \"7\", \"8\", \"9\", \"10\", \"J\", \"Q\", \"K\", \"A\"]\n",
    "\n",
    "    def __init__(self, suit, rank):\n",
    "        self.suit = suit\n",
    "        self.rank = rank\n",
    "\n",
    "    def __str__(self):\n",
    "        return f\"{Card.ranks[self.rank]}{Card.suits[self.suit]}\"\n",
    "\n",
    "    def __lt__(self, other):\n",
    "        if self.rank == other.rank:\n",
    "            return self.suit < other.suit\n",
    "        else:\n",
    "            return self.rank < other.rank\n",
    "\n",
    "\n",
    "class Deck:\n",
    "    def __init__(self):\n",
    "        self.deck = []\n",
    "        for suit in range(4):\n",
    "            for rank in range(13):\n",
    "                self.deck.append(Card(suit, rank))\n",
    "        self.shuffle()\n",
    "\n",
    "    def __len__(self):\n",
    "        return len(self.deck)\n",
    "\n",
    "    def add_card(self, card):\n",
    "        self.deck.append(card)\n",
    "\n",
    "    def pop_card(self):\n",
    "        return self.deck.pop()\n",
    "\n",
    "    def shuffle(self):\n",
    "        random.shuffle(self.deck)\n",
    "\n",
    "deck = Deck()\n",
    "\n",
    "print(deck.pop_card(),deck.pop_card(),deck.pop_card())\n"
   ]
  },
  {
   "cell_type": "markdown",
   "metadata": {
    "id": "VPWR3as51nRK"
   },
   "source": [
    "## Section D"
   ]
  },
  {
   "cell_type": "markdown",
   "metadata": {
    "id": "CoozNgWv1nRL"
   },
   "source": [
    "### 9. Write a Python Program to implement your own myreduce() function which works exactly like Python's built-in function reduce() "
   ]
  },
  {
   "cell_type": "code",
   "execution_count": 8,
   "metadata": {
    "id": "MkPzC44-1nRM"
   },
   "outputs": [
    {
     "name": "stdout",
     "output_type": "stream",
     "text": [
      "Input:\n",
      "Please insert the number :8\n",
      "Output:\n",
      "List of First n Natural numbers are: [1, 2, 3, 4, 5, 6, 7, 8]\n",
      "Sum of List elements are : 36\n"
     ]
    }
   ],
   "source": [
    "\n",
    "def myreduce(num):\n",
    "\n",
    "    num_list = list(range(1, number + 1))\n",
    "    sum_of_elements = 0\n",
    "\n",
    "    for i in num_list:\n",
    "        sum_of_elements += i\n",
    "\n",
    "    return num_list, sum_of_elements\n",
    "# Input\n",
    "print(\"Input:\")\n",
    "number = int(input(\"Please insert the number :\"))\n",
    "\n",
    "# Function Execution\n",
    "\n",
    "output_value = myreduce(number)\n",
    "\n",
    "# Output\n",
    "print(\"Output:\")\n",
    "print(\"List of First n Natural numbers are:\", output_value[0])\n",
    "print(\"Sum of List elements are :\", output_value[1])"
   ]
  },
  {
   "cell_type": "markdown",
   "metadata": {
    "id": "RI8Ch8nW1nRN"
   },
   "source": [
    "### 10. Write a Python Program to implement your own myreduce() function which works exactly like Python's built-in function reduce() and find the sum and product of list values."
   ]
  },
  {
   "cell_type": "code",
   "execution_count": 11,
   "metadata": {
    "id": "IpsSyViv1nRN"
   },
   "outputs": [
    {
     "name": "stdout",
     "output_type": "stream",
     "text": [
      "Input:\n",
      "Please insert the number :12\n",
      "Output:\n",
      "List of First n Natural numbers are: [1, 2, 3, 4, 5, 6, 7, 8, 9, 10, 11, 12]\n",
      "Sum of List elements are : 78\n"
     ]
    }
   ],
   "source": [
    "\n",
    "def myreduce(num):\n",
    "\n",
    "    num_list = list(range(1, number + 1))\n",
    "    sum_of_elements = 0\n",
    "\n",
    "    for i in num_list:\n",
    "        sum_of_elements += i\n",
    "\n",
    "    return num_list, sum_of_elements\n",
    "# Input\n",
    "print(\"Input:\")\n",
    "number = int(input(\"Please insert the number :\"))\n",
    "\n",
    "# Function Execution\n",
    "\n",
    "output_value = myreduce(number)\n",
    "\n",
    "# Output\n",
    "print(\"Output:\")\n",
    "print(\"List of First n Natural numbers are:\", output_value[0])\n",
    "print(\"Sum of List elements are :\", output_value[1])"
   ]
  },
  {
   "cell_type": "markdown",
   "metadata": {
    "id": "5f_SiWpa1nRO"
   },
   "source": [
    "### 11. Implement a function longestWord() that takes a list of words and returns the longest one."
   ]
  },
  {
   "cell_type": "code",
   "execution_count": 10,
   "metadata": {
    "id": "DR-JF_vl1nRP"
   },
   "outputs": [
    {
     "name": "stdout",
     "output_type": "stream",
     "text": [
      "Please enter your word: qwqewq,qewqe,qwewqeqw,qwe\n",
      "Output:\n",
      "qwewqeqw\n"
     ]
    }
   ],
   "source": [
    "def longestWord(word_list):\n",
    "\n",
    "    wordlen=[]\n",
    "    for w in word_list:\n",
    "        wordlen.append((len(w),w))\n",
    "    wordlen.sort()\n",
    "    return wordlen[-1][-1]\n",
    "\n",
    "\n",
    "word_list=input(\"Please enter your word: \")\n",
    "word_list=word_list.split(\",\")\n",
    "# function execution\n",
    "longest_word=longestWord(word_list)\n",
    "print(\"Output:\")\n",
    "print(longest_word)"
   ]
  },
  {
   "cell_type": "markdown",
   "metadata": {
    "id": "a59GeLkD1nRQ"
   },
   "source": [
    "### 12. Write a Python Program(with class concepts) to find the area of the triangle using the below formula. \n",
    " \n",
    "area = (s*(s-a)*(s-b)*(s-c)) ** 0.5 \n",
    " \n",
    "Function to take the length of the sides of triangle from user should be defined in the parent class and function to calculate the area should be defined in subclass. "
   ]
  },
  {
   "cell_type": "code",
   "execution_count": 12,
   "metadata": {
    "id": "_SDOq6Fa1nRQ"
   },
   "outputs": [
    {
     "name": "stdout",
     "output_type": "stream",
     "text": [
      "a=5\n",
      "b=6\n",
      "c=4\n",
      "area : 9.921567416492215\n"
     ]
    }
   ],
   "source": [
    "class poly:\n",
    "    def __init__(self,a,b,c):\n",
    "        self.a = float(a)\n",
    "        self.b = float(b)\n",
    "        self.c = float(c)\n",
    "a= int(input(\"a=\"))\n",
    "b= int(input(\"b=\"))\n",
    "c= int(input(\"c=\"))\n",
    "\n",
    "class triangle(poly):\n",
    "    def __init__(self,a,b,c):\n",
    "        super().__init__(a,b,c)\n",
    "\n",
    "    def get_area(self):\n",
    "        s = (a + b + c) / 2\n",
    "        return (s*(s-a)*(s-b)*(s-c)) ** 0.5\n",
    "\n",
    "t = triangle(a,b,c)\n",
    "print(\"area : {}\".format(t.get_area()))"
   ]
  },
  {
   "cell_type": "markdown",
   "metadata": {
    "id": "IlkXMdQz1nRR"
   },
   "source": [
    "### 13. Write a Python program using function concept that maps  list of words into a list of integers representing the lengths of the corresponding words​. \n",
    " Hint: ​If a list [ ab,cde,erty] is passed on to the python function output should come as [2,3,4] \n",
    " \n",
    " Here 2,3 and 4 are the lengths of the words in the list. "
   ]
  },
  {
   "cell_type": "code",
   "execution_count": 13,
   "metadata": {
    "id": "axFyFutC1nRR"
   },
   "outputs": [
    {
     "name": "stdout",
     "output_type": "stream",
     "text": [
      "Input : Please enter Words : qwert,uyitdfs,uytddfutduty\n",
      "Output: Length of Words are : [5, 7, 12]\n"
     ]
    }
   ],
   "source": [
    "\n",
    "#Function to map length of words with words \n",
    "def map_Words_to_Length(List):\n",
    "    ''' This function Map's the words with their corresponding length'''\n",
    "    return list(map(len, List))\n",
    "\n",
    "word_List=list(input(\"Input : Please enter Words : \").split(\",\"))\n",
    "#List Comprehension has been done to remove white trailing white spaces\n",
    "List=[x.strip() for x in word_List]\n",
    "#function Execution\n",
    "Words_lengths=map_Words_to_Length(List)\n",
    "\n",
    "print(\"Output: Length of Words are :\",Words_lengths )"
   ]
  },
  {
   "cell_type": "code",
   "execution_count": null,
   "metadata": {
    "id": "bvx7oV3F1nRS"
   },
   "outputs": [],
   "source": []
  }
 ],
 "metadata": {
  "colab": {
   "collapsed_sections": [],
   "name": "Python assignment-1 Questions.ipynb",
   "provenance": []
  },
  "kernelspec": {
   "display_name": "Python 3 (ipykernel)",
   "language": "python",
   "name": "python3"
  },
  "language_info": {
   "codemirror_mode": {
    "name": "ipython",
    "version": 3
   },
   "file_extension": ".py",
   "mimetype": "text/x-python",
   "name": "python",
   "nbconvert_exporter": "python",
   "pygments_lexer": "ipython3",
   "version": "3.9.7"
  }
 },
 "nbformat": 4,
 "nbformat_minor": 1
}
